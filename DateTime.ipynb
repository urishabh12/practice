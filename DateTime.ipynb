{
 "cells": [
  {
   "cell_type": "code",
   "execution_count": null,
   "metadata": {},
   "outputs": [],
   "source": []
  },
  {
   "cell_type": "code",
   "execution_count": 4,
   "metadata": {},
   "outputs": [],
   "source": [
    "def weekDay(year, month, day):\n",
    "    offset = [0, 31, 59, 90, 120, 151, 181, 212, 243, 273, 304, 334]\n",
    "    week   = ['Sunday', \n",
    "              'Monday', \n",
    "              'Tuesday', \n",
    "              'Wednesday', \n",
    "              'Thursday',  \n",
    "              'Friday', \n",
    "              'Saturday']\n",
    "    afterFeb = 1\n",
    "    if month > 2: afterFeb = 0\n",
    "    aux = year - 1700 - afterFeb\n",
    "    # dayOfWeek for 1700/1/1 = 5, Friday\n",
    "    dayOfWeek  = 5\n",
    "    # partial sum of days betweem current date and 1700/1/1\n",
    "    dayOfWeek += (aux + afterFeb) * 365                  \n",
    "    # leap year correction    \n",
    "    dayOfWeek += aux / 4 - aux / 100 + (aux + 100) / 400     \n",
    "    # sum monthly and day offsets\n",
    "    dayOfWeek += offset[month - 1] + (day - 1)               \n",
    "    dayOfWeek %= 7\n",
    "    return dayOfWeek, week[int(dayOfWeek)]"
   ]
  },
  {
   "cell_type": "code",
   "execution_count": 5,
   "metadata": {},
   "outputs": [
    {
     "data": {
      "text/plain": [
       "(6.1524999999965075, 'Saturday')"
      ]
     },
     "execution_count": 5,
     "metadata": {},
     "output_type": "execute_result"
    }
   ],
   "source": [
    "weekDay(2013, 6, 15)"
   ]
  }
 ],
 "metadata": {
  "kernelspec": {
   "display_name": "Python 3",
   "language": "python",
   "name": "python3"
  },
  "language_info": {
   "codemirror_mode": {
    "name": "ipython",
    "version": 3
   },
   "file_extension": ".py",
   "mimetype": "text/x-python",
   "name": "python",
   "nbconvert_exporter": "python",
   "pygments_lexer": "ipython3",
   "version": "3.6.7"
  }
 },
 "nbformat": 4,
 "nbformat_minor": 2
}
