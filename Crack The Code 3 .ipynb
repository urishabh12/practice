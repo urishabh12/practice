{
 "cells": [
  {
   "cell_type": "markdown",
   "metadata": {},
   "source": [
    "# Can you calculate the average rating during a stream of live ratings over 5 minutes?"
   ]
  },
  {
   "cell_type": "markdown",
   "metadata": {},
   "source": [
    "Assuming that the ratings are out of 10. The below code will run for 10 seconds (Not running for 5 minutes as it might heat up the laptop) and collect input the whole time and save it in a hash map for faster calculation less and storage space."
   ]
  },
  {
   "cell_type": "code",
   "execution_count": 3,
   "metadata": {},
   "outputs": [],
   "source": [
    "import time, random\n",
    "start = time.time()\n",
    "Ratings = [0]*11\n",
    "while time.time() - start < 10:\n",
    "    i = random.randint(1,10)\n",
    "    Ratings[i] += 1"
   ]
  },
  {
   "cell_type": "code",
   "execution_count": 5,
   "metadata": {},
   "outputs": [
    {
     "name": "stdout",
     "output_type": "stream",
     "text": [
      "[0, 469049, 469705, 470313, 469465, 469580, 470193, 470033, 469485, 470588, 469521]\n"
     ]
    }
   ],
   "source": [
    "print(Ratings)"
   ]
  },
  {
   "cell_type": "markdown",
   "metadata": {},
   "source": [
    "Using the hash map we can find the average"
   ]
  },
  {
   "cell_type": "code",
   "execution_count": 12,
   "metadata": {},
   "outputs": [
    {
     "name": "stdout",
     "output_type": "stream",
     "text": [
      "Average Ratings: 5\n"
     ]
    }
   ],
   "source": [
    "temp = 0\n",
    "deno = 0\n",
    "for i in range(1,11):\n",
    "    temp += Ratings[i]*i\n",
    "    deno += Ratings[i]\n",
    "Avg = temp//deno\n",
    "print('Average Ratings:', Avg)"
   ]
  },
  {
   "cell_type": "markdown",
   "metadata": {},
   "source": [
    "First we collected rating data over a period of time in a hashmap and then calculated the average. If max rating is m then time required to calculate is O(m)"
   ]
  }
 ],
 "metadata": {
  "kernelspec": {
   "display_name": "Python 3",
   "language": "python",
   "name": "python3"
  },
  "language_info": {
   "codemirror_mode": {
    "name": "ipython",
    "version": 3
   },
   "file_extension": ".py",
   "mimetype": "text/x-python",
   "name": "python",
   "nbconvert_exporter": "python",
   "pygments_lexer": "ipython3",
   "version": "3.6.7"
  }
 },
 "nbformat": 4,
 "nbformat_minor": 2
}
