{
 "cells": [
  {
   "cell_type": "code",
   "execution_count": 3,
   "metadata": {},
   "outputs": [
    {
     "name": "stdout",
     "output_type": "stream",
     "text": [
      "[1 2 3 4]\n"
     ]
    }
   ],
   "source": [
    "import numpy as np\n",
    "\n",
    "a=np.array([1,2,3,4])\n",
    "print(a)"
   ]
  },
  {
   "cell_type": "code",
   "execution_count": 46,
   "metadata": {},
   "outputs": [
    {
     "name": "stdout",
     "output_type": "stream",
     "text": [
      "25066.616306705524\n",
      "Vectorization Time taken: 0.24509429931640625 ms\n",
      "25066.616306705942\n",
      "For loop time: 68.48645210266113 ms\n"
     ]
    }
   ],
   "source": [
    "import time\n",
    "\n",
    "a = np.random.rand(100000)\n",
    "b = np.random.rand(100000)\n",
    "\n",
    "start = time.time()\n",
    "c = np.dot(a,b)\n",
    "stop = time.time()\n",
    "print(c)\n",
    "print(\"Vectorization Time taken: \" + str(1000*(stop-start)) + \" ms\")\n",
    "\n",
    "c=0\n",
    "start = time.time()\n",
    "for i in range(100000):\n",
    "    c+=a[i]*b[i]\n",
    "stop = time.time()\n",
    "\n",
    "print(c)\n",
    "print(\"For loop time: \" + str(1000*(stop-start)) + \" ms\")"
   ]
  },
  {
   "cell_type": "code",
   "execution_count": 47,
   "metadata": {},
   "outputs": [],
   "source": [
    "u = np.exp(b)"
   ]
  }
 ],
 "metadata": {
  "kernelspec": {
   "display_name": "Python 3",
   "language": "python",
   "name": "python3"
  },
  "language_info": {
   "codemirror_mode": {
    "name": "ipython",
    "version": 3
   },
   "file_extension": ".py",
   "mimetype": "text/x-python",
   "name": "python",
   "nbconvert_exporter": "python",
   "pygments_lexer": "ipython3",
   "version": "3.6.7"
  }
 },
 "nbformat": 4,
 "nbformat_minor": 2
}
