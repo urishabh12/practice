{
 "cells": [
  {
   "cell_type": "markdown",
   "metadata": {},
   "source": [
    "# Can you pivot 100 individual shows daily ratings to find top 10 shows?"
   ]
  },
  {
   "cell_type": "code",
   "execution_count": 142,
   "metadata": {},
   "outputs": [],
   "source": [
    "#Package Import\n",
    "import numpy as np\n",
    "import pandas as pd"
   ]
  },
  {
   "cell_type": "markdown",
   "metadata": {},
   "source": [
    "Assuming that the shows are rated out of 10 and creating random ratings."
   ]
  },
  {
   "cell_type": "code",
   "execution_count": 139,
   "metadata": {},
   "outputs": [],
   "source": [
    "import random\n",
    "ratings=[]\n",
    "for i in range(100):\n",
    "    l=[random.randint(1,10) for x in range(365)]\n",
    "    ratings.append(l)"
   ]
  },
  {
   "cell_type": "markdown",
   "metadata": {},
   "source": [
    "Assigning Show id and creating a pandas dataframe"
   ]
  },
  {
   "cell_type": "code",
   "execution_count": 146,
   "metadata": {},
   "outputs": [],
   "source": [
    "show_id=[int(x) for x in range(1,101)]"
   ]
  },
  {
   "cell_type": "code",
   "execution_count": 147,
   "metadata": {},
   "outputs": [],
   "source": [
    "d = {'Id': show_id, 'Ratings': ratings}\n",
    "df = pd.DataFrame(d)"
   ]
  },
  {
   "cell_type": "code",
   "execution_count": 148,
   "metadata": {},
   "outputs": [
    {
     "data": {
      "text/html": [
       "<div>\n",
       "<style scoped>\n",
       "    .dataframe tbody tr th:only-of-type {\n",
       "        vertical-align: middle;\n",
       "    }\n",
       "\n",
       "    .dataframe tbody tr th {\n",
       "        vertical-align: top;\n",
       "    }\n",
       "\n",
       "    .dataframe thead th {\n",
       "        text-align: right;\n",
       "    }\n",
       "</style>\n",
       "<table border=\"1\" class=\"dataframe\">\n",
       "  <thead>\n",
       "    <tr style=\"text-align: right;\">\n",
       "      <th></th>\n",
       "      <th>Id</th>\n",
       "      <th>Ratings</th>\n",
       "    </tr>\n",
       "  </thead>\n",
       "  <tbody>\n",
       "    <tr>\n",
       "      <th>0</th>\n",
       "      <td>1</td>\n",
       "      <td>[6, 10, 7, 6, 1, 1, 10, 1, 9, 8, 3, 7, 6, 3, 3...</td>\n",
       "    </tr>\n",
       "    <tr>\n",
       "      <th>1</th>\n",
       "      <td>2</td>\n",
       "      <td>[10, 4, 6, 4, 1, 8, 3, 2, 3, 8, 10, 7, 9, 3, 1...</td>\n",
       "    </tr>\n",
       "    <tr>\n",
       "      <th>2</th>\n",
       "      <td>3</td>\n",
       "      <td>[5, 3, 6, 6, 4, 6, 9, 1, 9, 10, 5, 9, 6, 6, 3,...</td>\n",
       "    </tr>\n",
       "    <tr>\n",
       "      <th>3</th>\n",
       "      <td>4</td>\n",
       "      <td>[6, 5, 3, 6, 7, 5, 3, 3, 5, 10, 6, 5, 2, 1, 9,...</td>\n",
       "    </tr>\n",
       "    <tr>\n",
       "      <th>4</th>\n",
       "      <td>5</td>\n",
       "      <td>[9, 6, 5, 3, 9, 8, 2, 2, 7, 4, 6, 7, 4, 10, 7,...</td>\n",
       "    </tr>\n",
       "  </tbody>\n",
       "</table>\n",
       "</div>"
      ],
      "text/plain": [
       "   Id                                            Ratings\n",
       "0   1  [6, 10, 7, 6, 1, 1, 10, 1, 9, 8, 3, 7, 6, 3, 3...\n",
       "1   2  [10, 4, 6, 4, 1, 8, 3, 2, 3, 8, 10, 7, 9, 3, 1...\n",
       "2   3  [5, 3, 6, 6, 4, 6, 9, 1, 9, 10, 5, 9, 6, 6, 3,...\n",
       "3   4  [6, 5, 3, 6, 7, 5, 3, 3, 5, 10, 6, 5, 2, 1, 9,...\n",
       "4   5  [9, 6, 5, 3, 9, 8, 2, 2, 7, 4, 6, 7, 4, 10, 7,..."
      ]
     },
     "execution_count": 148,
     "metadata": {},
     "output_type": "execute_result"
    }
   ],
   "source": [
    "df.head()"
   ]
  },
  {
   "cell_type": "markdown",
   "metadata": {},
   "source": [
    "So our data looks like this we have ratings out of 10 for 365 days per show with each show assigned a unique id"
   ]
  },
  {
   "cell_type": "markdown",
   "metadata": {},
   "source": [
    "As the ratings are out of 10 we can find the top 10 show by finding each shows average and sorting the shows according to the average."
   ]
  },
  {
   "cell_type": "code",
   "execution_count": 155,
   "metadata": {},
   "outputs": [],
   "source": [
    "#Finding average rating (Arithmetic Mean) of each show\n",
    "avg=[]\n",
    "for i in range(100):\n",
    "    temp = sum(df['Ratings'][i])/365\n",
    "    avg.append(temp)\n",
    "df['AvgRatings'] = pd.Series(avg, index=df.index)"
   ]
  },
  {
   "cell_type": "code",
   "execution_count": 160,
   "metadata": {},
   "outputs": [
    {
     "data": {
      "text/html": [
       "<div>\n",
       "<style scoped>\n",
       "    .dataframe tbody tr th:only-of-type {\n",
       "        vertical-align: middle;\n",
       "    }\n",
       "\n",
       "    .dataframe tbody tr th {\n",
       "        vertical-align: top;\n",
       "    }\n",
       "\n",
       "    .dataframe thead th {\n",
       "        text-align: right;\n",
       "    }\n",
       "</style>\n",
       "<table border=\"1\" class=\"dataframe\">\n",
       "  <thead>\n",
       "    <tr style=\"text-align: right;\">\n",
       "      <th></th>\n",
       "      <th>Id</th>\n",
       "      <th>Ratings</th>\n",
       "      <th>AvgRatings</th>\n",
       "    </tr>\n",
       "  </thead>\n",
       "  <tbody>\n",
       "    <tr>\n",
       "      <th>0</th>\n",
       "      <td>1</td>\n",
       "      <td>[6, 10, 7, 6, 1, 1, 10, 1, 9, 8, 3, 7, 6, 3, 3...</td>\n",
       "      <td>5.339726</td>\n",
       "    </tr>\n",
       "    <tr>\n",
       "      <th>1</th>\n",
       "      <td>2</td>\n",
       "      <td>[10, 4, 6, 4, 1, 8, 3, 2, 3, 8, 10, 7, 9, 3, 1...</td>\n",
       "      <td>5.416438</td>\n",
       "    </tr>\n",
       "    <tr>\n",
       "      <th>2</th>\n",
       "      <td>3</td>\n",
       "      <td>[5, 3, 6, 6, 4, 6, 9, 1, 9, 10, 5, 9, 6, 6, 3,...</td>\n",
       "      <td>5.638356</td>\n",
       "    </tr>\n",
       "    <tr>\n",
       "      <th>3</th>\n",
       "      <td>4</td>\n",
       "      <td>[6, 5, 3, 6, 7, 5, 3, 3, 5, 10, 6, 5, 2, 1, 9,...</td>\n",
       "      <td>5.282192</td>\n",
       "    </tr>\n",
       "    <tr>\n",
       "      <th>4</th>\n",
       "      <td>5</td>\n",
       "      <td>[9, 6, 5, 3, 9, 8, 2, 2, 7, 4, 6, 7, 4, 10, 7,...</td>\n",
       "      <td>5.591781</td>\n",
       "    </tr>\n",
       "  </tbody>\n",
       "</table>\n",
       "</div>"
      ],
      "text/plain": [
       "   Id                                            Ratings  AvgRatings\n",
       "0   1  [6, 10, 7, 6, 1, 1, 10, 1, 9, 8, 3, 7, 6, 3, 3...    5.339726\n",
       "1   2  [10, 4, 6, 4, 1, 8, 3, 2, 3, 8, 10, 7, 9, 3, 1...    5.416438\n",
       "2   3  [5, 3, 6, 6, 4, 6, 9, 1, 9, 10, 5, 9, 6, 6, 3,...    5.638356\n",
       "3   4  [6, 5, 3, 6, 7, 5, 3, 3, 5, 10, 6, 5, 2, 1, 9,...    5.282192\n",
       "4   5  [9, 6, 5, 3, 9, 8, 2, 2, 7, 4, 6, 7, 4, 10, 7,...    5.591781"
      ]
     },
     "execution_count": 160,
     "metadata": {},
     "output_type": "execute_result"
    }
   ],
   "source": [
    "df.head()"
   ]
  },
  {
   "cell_type": "code",
   "execution_count": 166,
   "metadata": {},
   "outputs": [
    {
     "name": "stdout",
     "output_type": "stream",
     "text": [
      "[57, 100, 37, 71, 65, 87, 18, 90, 43, 4, 40]\n"
     ]
    }
   ],
   "source": [
    "top = [x for _, x in sorted(zip(df['AvgRatings'], df['Id']))]\n",
    "print(top[0:11])\n"
   ]
  },
  {
   "cell_type": "markdown",
   "metadata": {},
   "source": [
    "Above are the top 10 shows according to their ratings for 365 days"
   ]
  }
 ],
 "metadata": {
  "kernelspec": {
   "display_name": "Python 3",
   "language": "python",
   "name": "python3"
  },
  "language_info": {
   "codemirror_mode": {
    "name": "ipython",
    "version": 3
   },
   "file_extension": ".py",
   "mimetype": "text/x-python",
   "name": "python",
   "nbconvert_exporter": "python",
   "pygments_lexer": "ipython3",
   "version": "3.6.7"
  }
 },
 "nbformat": 4,
 "nbformat_minor": 2
}
