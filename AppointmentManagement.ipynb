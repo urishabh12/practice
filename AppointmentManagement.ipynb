{
 "cells": [
  {
   "cell_type": "code",
   "execution_count": 1,
   "metadata": {},
   "outputs": [],
   "source": [
    "from sklearn import svm\n",
    "import sklearn\n",
    "from sklearn import metrics\n",
    "import time\n",
    "import pickle\n",
    "from joblib import dump, load\n",
    "import pandas as pd\n",
    "import random\n",
    "import numpy as np"
   ]
  },
  {
   "cell_type": "code",
   "execution_count": 2,
   "metadata": {},
   "outputs": [],
   "source": [
    "parameters={0:\"fever\", 1:\"head pain\", 2:\"chest pain\", 3:\"sick\", 4:\"weak\"}"
   ]
  },
  {
   "cell_type": "code",
   "execution_count": 2,
   "metadata": {},
   "outputs": [],
   "source": [
    "param=[3, 4, 1, 0, 0, 2, 1, 0, 4, 0, 4, 1, 4, 2, 0, 2, 4, 3, 1, 1, 1, 3, 0, 2, 4, 0, 2, 4, 2, 0, 1, 2, 4, 3, 2, 2, 0, 4, 2, 3, 0, 1, 0, 3, 2, 1, 0, 2, 0, 4, 1, 2, 0, 4, 1, 2, 4, 1, 0, 0, 4, 0, 0, 1, 3, 1, 0, 4, 0, 3, 4, 4, 0, 1, 1, 0, 4, 1, 4, 1, 4, 4, 4, 4, 2, 1, 4, 0, 1, 0, 3, 4, 4, 4, 1, 1, 4, 3, 0, 3, 2]"
   ]
  },
  {
   "cell_type": "code",
   "execution_count": 3,
   "metadata": {},
   "outputs": [],
   "source": [
    "minutes=[11, 11, 13, 12, 14, 13, 12, 12, 12, 13, 14, 14, 11, 14, 11, 12, 12, 11, 11, 11, 13, 13, 11, 13, 14, 13, 12, 11, 12, 11, 14, 12, 12, 14, 13, 14, 14, 11, 11, 11, 14, 11, 12, 11, 11, 13, 14, 11, 14, 12, 11, 11, 14, 12, 11, 13, 12, 12, 12, 14, 12, 11, 12, 11, 13, 13, 14, 14, 11, 11, 12, 12, 13, 12, 12, 13, 13, 14, 11, 11, 11, 12, 12, 12, 14, 14, 14, 14, 12, 13, 12, 14, 13, 13, 13, 12, 12, 11, 14, 11, 13]"
   ]
  },
  {
   "cell_type": "code",
   "execution_count": 4,
   "metadata": {},
   "outputs": [],
   "source": [
    "data={\"param\":param, \"minutes\":minutes}\n",
    "df=pd.DataFrame(data)\n",
    "nparam = np.array(param)\n",
    "nminutes = np.array(minutes)"
   ]
  },
  {
   "cell_type": "code",
   "execution_count": 5,
   "metadata": {},
   "outputs": [],
   "source": [
    "x_train=nparam[:80]\n",
    "y_train=nminutes[:80]\n",
    "x_test=nparam[80:]\n",
    "y_test=nminutes[80:]"
   ]
  },
  {
   "cell_type": "code",
   "execution_count": 6,
   "metadata": {},
   "outputs": [
    {
     "name": "stdout",
     "output_type": "stream",
     "text": [
      "0.38095238095238093\n"
     ]
    }
   ],
   "source": [
    "clf = svm.SVC()\n",
    "clf.fit(x_train.reshape(-1,1), y_train)\n",
    "y_pred = clf.predict(x_test.reshape(-1,1))\n",
    "acc = metrics.accuracy_score(y_test, y_pred)\n",
    "print(acc)"
   ]
  },
  {
   "cell_type": "code",
   "execution_count": 15,
   "metadata": {},
   "outputs": [
    {
     "data": {
      "text/plain": [
       "array([12])"
      ]
     },
     "execution_count": 15,
     "metadata": {},
     "output_type": "execute_result"
    }
   ],
   "source": [
    "clf.predict([[4]])"
   ]
  },
  {
   "cell_type": "code",
   "execution_count": 55,
   "metadata": {},
   "outputs": [
    {
     "data": {
      "text/plain": [
       "['appointmentmanagement.joblib']"
      ]
     },
     "execution_count": 55,
     "metadata": {},
     "output_type": "execute_result"
    }
   ],
   "source": [
    "nclf = svm.SVC()\n",
    "clf.fit(nparam.reshape(-1,1), nminutes)\n",
    "dump(clf, \"appointmentmanagement.joblib\")"
   ]
  }
 ],
 "metadata": {
  "kernelspec": {
   "display_name": "Python 3",
   "language": "python",
   "name": "python3"
  },
  "language_info": {
   "codemirror_mode": {
    "name": "ipython",
    "version": 3
   },
   "file_extension": ".py",
   "mimetype": "text/x-python",
   "name": "python",
   "nbconvert_exporter": "python",
   "pygments_lexer": "ipython3",
   "version": "3.6.9"
  }
 },
 "nbformat": 4,
 "nbformat_minor": 2
}
