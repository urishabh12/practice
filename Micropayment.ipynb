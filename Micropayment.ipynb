{
 "cells": [
  {
   "cell_type": "code",
   "execution_count": 1,
   "metadata": {},
   "outputs": [],
   "source": [
    "from web3 import Web3, HTTPProvider\n",
    "import json\n",
    "import ipfsapi"
   ]
  },
  {
   "cell_type": "code",
   "execution_count": 5,
   "metadata": {},
   "outputs": [],
   "source": [
    "l=1"
   ]
  },
  {
   "cell_type": "code",
   "execution_count": 7,
   "metadata": {},
   "outputs": [
    {
     "data": {
      "text/plain": [
       "<json.encoder.JSONEncoder at 0x7fd8dc56f630>"
      ]
     },
     "execution_count": 7,
     "metadata": {},
     "output_type": "execute_result"
    }
   ],
   "source": []
  },
  {
   "cell_type": "code",
   "execution_count": 103,
   "metadata": {},
   "outputs": [],
   "source": [
    "web3=Web3(HTTPProvider('http://localhost:8101'))"
   ]
  },
  {
   "cell_type": "code",
   "execution_count": 105,
   "metadata": {
    "scrolled": true
   },
   "outputs": [
    {
     "data": {
      "text/plain": [
       "['0x8702faa023Fa155616716f70811a10617e1ed607',\n",
       " '0x0d69ce305c263bC30Ad5F1c8Ab1f081b3f754Eab',\n",
       " '0x0260C3a3a756Ebc3b2B2D709D03AA286CAAfdad6',\n",
       " '0x6E9A040C83dFe03ea1A16cddB292eF801a616403',\n",
       " '0x7c734783c2179F37443BDF9a94f4aE65d93e10d8',\n",
       " '0x98499caf26692A791782768AafdB86E7aA1004E9',\n",
       " '0x392f13c7b0cE4687732fE6180EB2b0302fF056a3']"
      ]
     },
     "execution_count": 105,
     "metadata": {},
     "output_type": "execute_result"
    }
   ],
   "source": [
    "web3.eth.accounts"
   ]
  },
  {
   "cell_type": "code",
   "execution_count": 388,
   "metadata": {},
   "outputs": [],
   "source": [
    "ERC20_ABI = json.loads('[{\"constant\": false,\"inputs\": [{\"name\": \"spender\",\"type\": \"address\"},{\"name\": \"value\",\"type\": \"uint256\"}],\"name\": \"approve\",\"outputs\": [{\"name\": \"\",\"type\": \"bool\"}],\"payable\": false,\"stateMutability\": \"nonpayable\",\"type\": \"function\",\"signature\": \"0x095ea7b3\"},{\"constant\": true,\"inputs\": [],\"name\": \"totalSupply\",\"outputs\": [{\"name\": \"\",\"type\": \"uint256\"}],\"payable\": false,\"stateMutability\": \"view\",\"type\": \"function\",\"signature\": \"0x18160ddd\"},{\"constant\": false,\"inputs\": [{\"name\": \"from\",\"type\": \"address\"},{\"name\": \"to\",\"type\": \"address\"},{\"name\": \"value\",\"type\": \"uint256\"}],\"name\": \"transferFrom\",\"outputs\": [{\"name\": \"\",\"type\": \"bool\"}],\"payable\": false,\"stateMutability\": \"nonpayable\",\"type\": \"function\",\"signature\": \"0x23b872dd\"},{\"constant\": false,\"inputs\": [{\"name\": \"spender\",\"type\": \"address\"},{\"name\": \"addedValue\",\"type\": \"uint256\"}],\"name\": \"increaseAllowance\",\"outputs\": [{\"name\": \"\",\"type\": \"bool\"}],\"payable\": false,\"stateMutability\": \"nonpayable\",\"type\": \"function\",\"signature\": \"0x39509351\"},{\"constant\": true,\"inputs\": [{\"name\": \"\",\"type\": \"address\"},{\"name\": \"\",\"type\": \"uint256\"}],\"name\": \"transactr\",\"outputs\": [{\"name\": \"to\",\"type\": \"address\"},{\"name\": \"value\",\"type\": \"uint256\"}],\"payable\": false,\"stateMutability\": \"view\",\"type\": \"function\",\"signature\": \"0x61b908dd\"},{\"constant\": true,\"inputs\": [{\"name\": \"owner\",\"type\": \"address\"}],\"name\": \"balanceOf\",\"outputs\": [{\"name\": \"\",\"type\": \"uint256\"}],\"payable\": false,\"stateMutability\": \"view\",\"type\": \"function\",\"signature\": \"0x70a08231\"},{\"constant\": false,\"inputs\": [{\"name\": \"spender\",\"type\": \"address\"},{\"name\": \"subtractedValue\",\"type\": \"uint256\"}],\"name\": \"decreaseAllowance\",\"outputs\": [{\"name\": \"\",\"type\": \"bool\"}],\"payable\": false,\"stateMutability\": \"nonpayable\",\"type\": \"function\",\"signature\": \"0xa457c2d7\"},{\"constant\": true,\"inputs\": [{\"name\": \"\",\"type\": \"address\"},{\"name\": \"\",\"type\": \"uint256\"}],\"name\": \"transacts\",\"outputs\": [{\"name\": \"to\",\"type\": \"address\"},{\"name\": \"value\",\"type\": \"uint256\"}],\"payable\": false,\"stateMutability\": \"view\",\"type\": \"function\",\"signature\": \"0xa4748845\"},{\"constant\": false,\"inputs\": [{\"name\": \"to\",\"type\": \"address\"},{\"name\": \"value\",\"type\": \"uint256\"}],\"name\": \"transfer\",\"outputs\": [{\"name\": \"\",\"type\": \"bool\"}],\"payable\": false,\"stateMutability\": \"nonpayable\",\"type\": \"function\",\"signature\": \"0xa9059cbb\"},{\"constant\": true,\"inputs\": [{\"name\": \"owner\",\"type\": \"address\"},{\"name\": \"spender\",\"type\": \"address\"}],\"name\": \"allowance\",\"outputs\": [{\"name\": \"\",\"type\": \"uint256\"}],\"payable\": false,\"stateMutability\": \"view\",\"type\": \"function\",\"signature\": \"0xdd62ed3e\"},{\"inputs\": [],\"payable\": false,\"stateMutability\": \"nonpayable\",\"type\": \"constructor\",\"signature\": \"constructor\"},{\"anonymous\": false,\"inputs\": [{\"indexed\": true,\"name\": \"from\",\"type\": \"address\"},{\"indexed\": true,\"name\": \"to\",\"type\": \"address\"},{\"indexed\": false,\"name\": \"value\",\"type\": \"uint256\"}],\"name\": \"Transfer\",\"type\": \"event\",\"signature\": \"0xddf252ad1be2c89b69c2b068fc378daa952ba7f163c4a11628f55a4df523b3ef\"},{\"anonymous\": false,\"inputs\": [{\"indexed\": true,\"name\": \"owner\",\"type\": \"address\"},{\"indexed\": true,\"name\": \"spender\",\"type\": \"address\"},{\"indexed\": false,\"name\": \"value\",\"type\": \"uint256\"}],\"name\": \"Approval\",\"type\": \"event\",\"signature\": \"0x8c5be1e5ebec7d5bd14f71427d1e84f3dd0314c0f7b2291e5b200ac8c7c3b925\"},{\"constant\": false,\"inputs\": [{\"name\": \"_from\",\"type\": \"address\"},{\"name\": \"_to\",\"type\": \"address\"},{\"name\": \"_value\",\"type\": \"uint256\"}],\"name\": \"send\",\"outputs\": [],\"payable\": false,\"stateMutability\": \"nonpayable\",\"type\": \"function\",\"signature\": \"0x0779afe6\"},{\"constant\": false,\"inputs\": [{\"name\": \"num\",\"type\": \"uint256\"}],\"name\": \"createmicro\",\"outputs\": [{\"name\": \"\",\"type\": \"bool\"}],\"payable\": false,\"stateMutability\": \"nonpayable\",\"type\": \"function\",\"signature\": \"0xeec07c2e\"}]')"
   ]
  },
  {
   "cell_type": "code",
   "execution_count": 43,
   "metadata": {},
   "outputs": [
    {
     "data": {
      "text/plain": [
       "'0xf183Bdac28273CD550F6eCEaaf7ae523576c333C'"
      ]
     },
     "execution_count": 43,
     "metadata": {},
     "output_type": "execute_result"
    }
   ],
   "source": [
    "web3.toChecksumAddress(0xf183Bdac28273CD550F6eCEaaf7ae523576c333C)"
   ]
  },
  {
   "cell_type": "code",
   "execution_count": 389,
   "metadata": {},
   "outputs": [],
   "source": [
    "erc20 = web3.eth.contract(address=\"0xb402a0ffA20EDF4d4799EA0Ac5a5Fff9Ee95AC83\", abi=ERC20_ABI)"
   ]
  },
  {
   "cell_type": "code",
   "execution_count": 390,
   "metadata": {},
   "outputs": [],
   "source": [
    "web3.eth.defaultAccount = web3.eth.accounts[0]"
   ]
  },
  {
   "cell_type": "code",
   "execution_count": 393,
   "metadata": {},
   "outputs": [
    {
     "data": {
      "text/plain": [
       "1000000"
      ]
     },
     "execution_count": 393,
     "metadata": {},
     "output_type": "execute_result"
    }
   ],
   "source": [
    "erc20.functions.totalSupply().call()"
   ]
  },
  {
   "cell_type": "code",
   "execution_count": 385,
   "metadata": {},
   "outputs": [],
   "source": [
    "a = erc20.functions.transact(web3.eth.accounts[0], 5).call()"
   ]
  },
  {
   "cell_type": "code",
   "execution_count": 386,
   "metadata": {},
   "outputs": [
    {
     "data": {
      "text/plain": [
       "['0x392f13c7b0cE4687732fE6180EB2b0302fF056a3', 30]"
      ]
     },
     "execution_count": 386,
     "metadata": {},
     "output_type": "execute_result"
    }
   ],
   "source": [
    "a"
   ]
  },
  {
   "cell_type": "code",
   "execution_count": 399,
   "metadata": {},
   "outputs": [
    {
     "data": {
      "text/plain": [
       "HexBytes('0x1dd9b599c501b9b1d63d4ceb75d0990c353dbeb12e2346d270c9d4717c2030f1')"
      ]
     },
     "execution_count": 399,
     "metadata": {},
     "output_type": "execute_result"
    }
   ],
   "source": [
    "erc20.functions.send(web3.eth.accounts[0], web3.eth.accounts[6], 30).transact()"
   ]
  },
  {
   "cell_type": "code",
   "execution_count": 392,
   "metadata": {},
   "outputs": [
    {
     "data": {
      "text/plain": [
       "HexBytes('0xb0d521e980355d621708d461a3629989a0ff18d9e66bca1e459ff8a5524759cd')"
      ]
     },
     "execution_count": 392,
     "metadata": {},
     "output_type": "execute_result"
    }
   ],
   "source": [
    "erc20.functions.createmicro(1000000).transact()"
   ]
  },
  {
   "cell_type": "code",
   "execution_count": 387,
   "metadata": {},
   "outputs": [
    {
     "data": {
      "text/plain": [
       "30"
      ]
     },
     "execution_count": 387,
     "metadata": {},
     "output_type": "execute_result"
    }
   ],
   "source": [
    "erc20.functions.balanceOf(\"0x392f13c7b0cE4687732fE6180EB2b0302fF056a3\").call()"
   ]
  },
  {
   "cell_type": "code",
   "execution_count": 400,
   "metadata": {},
   "outputs": [
    {
     "data": {
      "text/plain": [
       "30"
      ]
     },
     "execution_count": 400,
     "metadata": {},
     "output_type": "execute_result"
    }
   ],
   "source": [
    "erc20.functions.balanceOf(web3.eth.accounts[5]).call()"
   ]
  },
  {
   "cell_type": "code",
   "execution_count": 313,
   "metadata": {},
   "outputs": [
    {
     "ename": "MismatchedABI",
     "evalue": "(\"The function '_transact' was not found in this contract's abi. \", 'Are you sure you provided the correct contract abi?')",
     "output_type": "error",
     "traceback": [
      "\u001b[0;31m---------------------------------------------------------------------------\u001b[0m",
      "\u001b[0;31mMismatchedABI\u001b[0m                             Traceback (most recent call last)",
      "\u001b[0;32m<ipython-input-313-b9e16b77725c>\u001b[0m in \u001b[0;36m<module>\u001b[0;34m()\u001b[0m\n\u001b[0;32m----> 1\u001b[0;31m \u001b[0merc20\u001b[0m\u001b[0;34m.\u001b[0m\u001b[0mfunctions\u001b[0m\u001b[0;34m.\u001b[0m\u001b[0m_transact\u001b[0m\u001b[0;34m(\u001b[0m\u001b[0mweb3\u001b[0m\u001b[0;34m.\u001b[0m\u001b[0meth\u001b[0m\u001b[0;34m.\u001b[0m\u001b[0maccounts\u001b[0m\u001b[0;34m[\u001b[0m\u001b[0;36m0\u001b[0m\u001b[0;34m]\u001b[0m\u001b[0;34m)\u001b[0m\u001b[0;34m.\u001b[0m\u001b[0mcall\u001b[0m\u001b[0;34m(\u001b[0m\u001b[0;34m)\u001b[0m\u001b[0;34m\u001b[0m\u001b[0;34m\u001b[0m\u001b[0m\n\u001b[0m",
      "\u001b[0;32m/usr/local/lib/python3.6/dist-packages/web3/contract.py\u001b[0m in \u001b[0;36m__getattr__\u001b[0;34m(self, function_name)\u001b[0m\n\u001b[1;32m    133\u001b[0m             raise MismatchedABI(\n\u001b[1;32m    134\u001b[0m                 \u001b[0;34m\"The function '{}' was not found in this contract's abi. \"\u001b[0m\u001b[0;34m.\u001b[0m\u001b[0mformat\u001b[0m\u001b[0;34m(\u001b[0m\u001b[0mfunction_name\u001b[0m\u001b[0;34m)\u001b[0m\u001b[0;34m,\u001b[0m\u001b[0;34m\u001b[0m\u001b[0;34m\u001b[0m\u001b[0m\n\u001b[0;32m--> 135\u001b[0;31m                 \u001b[0;34m\"Are you sure you provided the correct contract abi?\"\u001b[0m\u001b[0;34m\u001b[0m\u001b[0;34m\u001b[0m\u001b[0m\n\u001b[0m\u001b[1;32m    136\u001b[0m             )\n\u001b[1;32m    137\u001b[0m         \u001b[0;32melse\u001b[0m\u001b[0;34m:\u001b[0m\u001b[0;34m\u001b[0m\u001b[0;34m\u001b[0m\u001b[0m\n",
      "\u001b[0;31mMismatchedABI\u001b[0m: (\"The function '_transact' was not found in this contract's abi. \", 'Are you sure you provided the correct contract abi?')"
     ]
    }
   ],
   "source": [
    "erc20.functions._transact(web3.eth.accounts[0]).call()"
   ]
  },
  {
   "cell_type": "code",
   "execution_count": 312,
   "metadata": {},
   "outputs": [
    {
     "data": {
      "text/plain": [
       "(AttributeDict({'address': '0x837A99a9F00f238b519d29Ec1761BdB19F8DB37e',\n",
       "  'args': AttributeDict({'from': '0x8702faa023Fa155616716f70811a10617e1ed607',\n",
       "   'to': '0x392f13c7b0cE4687732fE6180EB2b0302fF056a3',\n",
       "   'value': 30}),\n",
       "  'blockHash': HexBytes('0x18f99fa25419cf3a261ee42a11c3f7f09982cf57d50b850a64a401fca92b5e87'),\n",
       "  'blockNumber': 4020,\n",
       "  'event': 'Transfer',\n",
       "  'logIndex': 0,\n",
       "  'transactionHash': HexBytes('0x110951c7337b36965837c397f61773c830a1a5e4a56189d28e278b72f98dccd6'),\n",
       "  'transactionIndex': 0}),)"
      ]
     },
     "execution_count": 312,
     "metadata": {},
     "output_type": "execute_result"
    }
   ],
   "source": [
    "receipt = web3.eth.getTransactionReceipt(\"0x110951c7337b36965837c397f61773c830a1a5e4a56189d28e278b72f98dccd6\")\n",
    "erc20.events.Transfer().processReceipt(receipt)"
   ]
  },
  {
   "cell_type": "code",
   "execution_count": 249,
   "metadata": {},
   "outputs": [],
   "source": [
    "a=web3.eth.getBlock(3955)\n",
    "a."
   ]
  },
  {
   "cell_type": "code",
   "execution_count": 251,
   "metadata": {},
   "outputs": [
    {
     "name": "stdout",
     "output_type": "stream",
     "text": [
      "[HexBytes('0x4ee5b50831a5dd15db6736726102ac94a46c2a416ce61c8ae03d8abb1444714f')] [HexBytes('0x6968c5bceedf05b48828e221c3eb690645cd70bd2f046a7a3d981b4709a6f770')] [HexBytes('0xfa14f12ccae63d2be3c4b5232b8259cdc9e1ab574ceeed9c3a8f45b6a12e6c98')] [HexBytes('0x9ded7852bc4e3ceea0ca8c50a894924b53132361dbc9170a1af3f10f9cac23c6')] [HexBytes('0xa763ad1b2933c08af9eb1d16513502f073108e7fb9fbb753b84095a0aecaef00')] [HexBytes('0xf07a9b5cf70810c4c414abd0ec464653b05dd531a937ca6641d6c709c59bce77')] [HexBytes('0x0bbeaefdae2b0b4dad1b7e27230cccbd5fbf244dc85c1330f39021d39233c4c2')] [HexBytes('0x9b9e44ee2b62e4ccfce1cbe0c6acf15d41b50d21e3a891e7b823dea92ca66764')] [HexBytes('0x0feb768d028fc46326fcbfd451682d960c8e7c6b262f1b1c301e7d207b6a0896')] [HexBytes('0x41053d4cc6493ff48988e18d3841698deb6090528e44a7868f5c957678fd598e')] [HexBytes('0x8c327857a4b63c24689b733ff9c763738c86012b6acf376fc0ba1ced6c83596b')] [HexBytes('0x53a4640655c2f4ac6dcf42c7f26d59b824b2875e2dc594c4e24e8f971047274c')] [HexBytes('0xfad21ebe8001c42a57f130cbb2628d9b171a569fc1bdfd09032df44d9824a3d8')] [HexBytes('0x06fa7808936e79173a5fc512bc0fb0cec6d31cdf0ee871f4c87ac8e8663efaf3')] [HexBytes('0x25cdc1db9632c939479c0588fc022f4b05b79b2f64934fec97ddb6184ec0fa9c')] [HexBytes('0xa2183bba6f0f891d60cbf176f75c562df4b02c47a6a20943ae3eefa75c982485')] [HexBytes('0xb3a25541e58d5a68817465a13c3881fc7356c025bae15c2a958e7d3a736b55d5')] [HexBytes('0xf2aef5e14183b4f97b1f062d6310d7d338da7a6886be5326f3537503ab193e10')]\n"
     ]
    }
   ],
   "source": [
    "transaction=[]\n",
    "for i in range(3800, 3966):\n",
    "    if web3.eth.getBlock(i).transactions != []:\n",
    "        transaction.append(web3.eth.getBlock(i).transactions)\n",
    "print(*transaction)"
   ]
  },
  {
   "cell_type": "code",
   "execution_count": 285,
   "metadata": {},
   "outputs": [
    {
     "data": {
      "text/plain": [
       "AttributeDict({'blockHash': HexBytes('0x69ca2e3b84bb9d58101640058378eb045885bc22ec946e321a3a38b6d04dec56'),\n",
       " 'blockNumber': 3818,\n",
       " 'contractAddress': None,\n",
       " 'cumulativeGasUsed': 27034,\n",
       " 'from': '0x8702faa023fa155616716f70811a10617e1ed607',\n",
       " 'gasUsed': 27034,\n",
       " 'logs': [],\n",
       " 'logsBloom': HexBytes('0x00000000000000000000000000000000000000000000000000000000000000000000000000000000000000000000000000000000000000000000000000000000000000000000000000000000000000000000000000000000000000000000000000000000000000000000000000000000000000000000000000000000000000000000000000000000000000000000000000000000000000000000000000000000000000000000000000000000000000000000000000000000000000000000000000000000000000000000000000000000000000000000000000000000000000000000000000000000000000000000000000000000000000000000000000000000'),\n",
       " 'status': 1,\n",
       " 'to': '0xe8646362c71db1ad0398f01c3abdde660b7d5967',\n",
       " 'transactionHash': HexBytes('0x9ded7852bc4e3ceea0ca8c50a894924b53132361dbc9170a1af3f10f9cac23c6'),\n",
       " 'transactionIndex': 0})"
      ]
     },
     "execution_count": 285,
     "metadata": {},
     "output_type": "execute_result"
    }
   ],
   "source": [
    "web3.eth.getTransactionReceipt(transaction[3][0])"
   ]
  },
  {
   "cell_type": "code",
   "execution_count": 235,
   "metadata": {},
   "outputs": [
    {
     "data": {
      "text/plain": [
       "3965"
      ]
     },
     "execution_count": 235,
     "metadata": {},
     "output_type": "execute_result"
    }
   ],
   "source": [
    "web3.eth.blockNumber"
   ]
  },
  {
   "cell_type": "code",
   "execution_count": 255,
   "metadata": {},
   "outputs": [
    {
     "ename": "ValueError",
     "evalue": "{'code': -32601, 'message': 'The method personal_unlockAccount does not exist/is not available'}",
     "output_type": "error",
     "traceback": [
      "\u001b[0;31m---------------------------------------------------------------------------\u001b[0m",
      "\u001b[0;31mValueError\u001b[0m                                Traceback (most recent call last)",
      "\u001b[0;32m<ipython-input-255-cb3ae8584045>\u001b[0m in \u001b[0;36m<module>\u001b[0;34m()\u001b[0m\n\u001b[0;32m----> 1\u001b[0;31m \u001b[0mweb3\u001b[0m\u001b[0;34m.\u001b[0m\u001b[0mpersonal\u001b[0m\u001b[0;34m.\u001b[0m\u001b[0munlockAccount\u001b[0m\u001b[0;34m(\u001b[0m\u001b[0mweb3\u001b[0m\u001b[0;34m.\u001b[0m\u001b[0meth\u001b[0m\u001b[0;34m.\u001b[0m\u001b[0maccounts\u001b[0m\u001b[0;34m[\u001b[0m\u001b[0;36m1\u001b[0m\u001b[0;34m]\u001b[0m\u001b[0;34m,\u001b[0m \u001b[0;34m'purr'\u001b[0m\u001b[0;34m)\u001b[0m\u001b[0;34m\u001b[0m\u001b[0;34m\u001b[0m\u001b[0m\n\u001b[0m",
      "\u001b[0;32m/usr/local/lib/python3.6/dist-packages/web3/personal.py\u001b[0m in \u001b[0;36munlockAccount\u001b[0;34m(self, account, passphrase, duration)\u001b[0m\n\u001b[1;32m     41\u001b[0m             return self.web3.manager.request_blocking(\n\u001b[1;32m     42\u001b[0m                 \u001b[0;34m\"personal_unlockAccount\"\u001b[0m\u001b[0;34m,\u001b[0m\u001b[0;34m\u001b[0m\u001b[0;34m\u001b[0m\u001b[0m\n\u001b[0;32m---> 43\u001b[0;31m                 \u001b[0;34m[\u001b[0m\u001b[0maccount\u001b[0m\u001b[0;34m,\u001b[0m \u001b[0mpassphrase\u001b[0m\u001b[0;34m,\u001b[0m \u001b[0mduration\u001b[0m\u001b[0;34m]\u001b[0m\u001b[0;34m,\u001b[0m\u001b[0;34m\u001b[0m\u001b[0;34m\u001b[0m\u001b[0m\n\u001b[0m\u001b[1;32m     44\u001b[0m             )\n\u001b[1;32m     45\u001b[0m         \u001b[0;32mexcept\u001b[0m \u001b[0mValueError\u001b[0m \u001b[0;32mas\u001b[0m \u001b[0merr\u001b[0m\u001b[0;34m:\u001b[0m\u001b[0;34m\u001b[0m\u001b[0;34m\u001b[0m\u001b[0m\n",
      "\u001b[0;32m/usr/local/lib/python3.6/dist-packages/web3/manager.py\u001b[0m in \u001b[0;36mrequest_blocking\u001b[0;34m(self, method, params)\u001b[0m\n\u001b[1;32m    110\u001b[0m \u001b[0;34m\u001b[0m\u001b[0m\n\u001b[1;32m    111\u001b[0m         \u001b[0;32mif\u001b[0m \u001b[0;34m\"error\"\u001b[0m \u001b[0;32min\u001b[0m \u001b[0mresponse\u001b[0m\u001b[0;34m:\u001b[0m\u001b[0;34m\u001b[0m\u001b[0;34m\u001b[0m\u001b[0m\n\u001b[0;32m--> 112\u001b[0;31m             \u001b[0;32mraise\u001b[0m \u001b[0mValueError\u001b[0m\u001b[0;34m(\u001b[0m\u001b[0mresponse\u001b[0m\u001b[0;34m[\u001b[0m\u001b[0;34m\"error\"\u001b[0m\u001b[0;34m]\u001b[0m\u001b[0;34m)\u001b[0m\u001b[0;34m\u001b[0m\u001b[0;34m\u001b[0m\u001b[0m\n\u001b[0m\u001b[1;32m    113\u001b[0m \u001b[0;34m\u001b[0m\u001b[0m\n\u001b[1;32m    114\u001b[0m         \u001b[0;32mreturn\u001b[0m \u001b[0mresponse\u001b[0m\u001b[0;34m[\u001b[0m\u001b[0;34m'result'\u001b[0m\u001b[0;34m]\u001b[0m\u001b[0;34m\u001b[0m\u001b[0;34m\u001b[0m\u001b[0m\n",
      "\u001b[0;31mValueError\u001b[0m: {'code': -32601, 'message': 'The method personal_unlockAccount does not exist/is not available'}"
     ]
    }
   ],
   "source": [
    "web3.eth."
   ]
  }
 ],
 "metadata": {
  "kernelspec": {
   "display_name": "Python 3",
   "language": "python",
   "name": "python3"
  },
  "language_info": {
   "codemirror_mode": {
    "name": "ipython",
    "version": 3
   },
   "file_extension": ".py",
   "mimetype": "text/x-python",
   "name": "python",
   "nbconvert_exporter": "python",
   "pygments_lexer": "ipython3",
   "version": "3.6.7"
  }
 },
 "nbformat": 4,
 "nbformat_minor": 2
}
